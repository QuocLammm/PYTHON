{
 "cells": [
  {
   "cell_type": "markdown",
   "metadata": {},
   "source": [
    "#### <span : style = \"color :red \">Bài tập tuần 2 ####"
   ]
  },
  {
   "cell_type": "markdown",
   "metadata": {},
   "source": [
    "`Bài 1. Deep thought`"
   ]
  },
  {
   "cell_type": "code",
   "execution_count": 4,
   "metadata": {},
   "outputs": [
    {
     "name": "stdout",
     "output_type": "stream",
     "text": [
      "Yes\n"
     ]
    }
   ],
   "source": [
    "def check_answer(a):# a : dữ liệu người nhập\n",
    "    # Kiểm tra câu trả lời\n",
    "    if a == \"42\" or a == \"fortytwo\" or a == \"forty-two\":\n",
    "        return \"Yes\"\n",
    "    else:\n",
    "        return \"No\"\n",
    "    \n",
    "def main():\n",
    "    question = \"What is the answer to the Great Question of Life, the Universe, and Everything?\"\n",
    "    a = input(question + \"\\n\").lower()\n",
    "    S = check_answer(a)\n",
    "    print( S)\n",
    "main()\n"
   ]
  },
  {
   "cell_type": "markdown",
   "metadata": {},
   "source": [
    "`Bài 2. Bank`\n"
   ]
  },
  {
   "cell_type": "code",
   "execution_count": 7,
   "metadata": {},
   "outputs": [
    {
     "name": "stdout",
     "output_type": "stream",
     "text": [
      "$100\n"
     ]
    }
   ],
   "source": [
    "def calculate_bonus(a):\n",
    "    a = a.lower().strip()\n",
    "\n",
    "    if a == \"hello\":\n",
    "        return \"$0\"\n",
    "    elif a.startswith(\"h\"):\n",
    "        return \"$20\"\n",
    "    else:\n",
    "        return \"$100\"\n",
    "\n",
    "def main():\n",
    "    a = input(\"Nhập lời chào của bạn: \")\n",
    "    money = calculate_bonus(a)\n",
    "    print(money)\n",
    "    \n",
    "main()"
   ]
  },
  {
   "cell_type": "markdown",
   "metadata": {},
   "source": [
    "`startwith()`: Sử dụng để kiểm tra xem chuỗi có bắt đầu bằng một chuỗi con (substring) cụ thể hay không."
   ]
  },
  {
   "cell_type": "markdown",
   "metadata": {},
   "source": [
    "`Bài 3. File extension`\n"
   ]
  },
  {
   "cell_type": "code",
   "execution_count": null,
   "metadata": {},
   "outputs": [],
   "source": [
    "def Match():\n",
    "    a = a.lower().strip()\n",
    "    match a:\n",
    "        case x: \n",
    "    x, y, z = expression.split(\" \")\n",
    "\n",
    "def main():\n",
    "    x = int(input(\"Nhập x:\"))\n",
    "    y"
   ]
  },
  {
   "cell_type": "markdown",
   "metadata": {},
   "source": [
    "`Bài 4. Interpreter`"
   ]
  },
  {
   "cell_type": "code",
   "execution_count": 4,
   "metadata": {},
   "outputs": [
    {
     "name": "stdout",
     "output_type": "stream",
     "text": [
      "2\n"
     ]
    }
   ],
   "source": [
    "def calculate_expression(pt):\n",
    "    try:\n",
    "        # Tách biểu thức thành các thành phần x, y, và z\n",
    "        x, tt, z = pt.split()\n",
    "\n",
    "        # Chuyển đổi x và z thành số nguyên\n",
    "        x = int(x)\n",
    "        z = int(z)\n",
    "\n",
    "        # Tính toán kết quả dựa trên toán tử\n",
    "        if tt == \"+\":\n",
    "            c = x + z\n",
    "        elif tt == \"-\":\n",
    "            c = x - z\n",
    "        elif tt == \"*\":\n",
    "            c = x * z\n",
    "        elif tt == \"/\":\n",
    "            if z == 0:\n",
    "                return \"Không thể chia cho 0\"\n",
    "            c = x / z\n",
    "        else:\n",
    "            return \"Toán tử không hợp lệ\"\n",
    "\n",
    "        return round(c, 1)  # Làm tròn kết quả đến 1 chữ số thập phân\n",
    "    except ValueError:\n",
    "        return \"Định dạng không hợp lệ\"\n",
    "\n",
    "def main():\n",
    "    a = input(\"Nhập biểu thức số học (ví dụ: 1 + 1): \")\n",
    "    print(calculate_expression(a))\n",
    "    \n",
    "main()\n"
   ]
  },
  {
   "cell_type": "markdown",
   "metadata": {},
   "source": [
    "`Bài 5. Meal time`"
   ]
  },
  {
   "cell_type": "code",
   "execution_count": null,
   "metadata": {},
   "outputs": [],
   "source": []
  }
 ],
 "metadata": {
  "kernelspec": {
   "display_name": "Python 3",
   "language": "python",
   "name": "python3"
  },
  "language_info": {
   "codemirror_mode": {
    "name": "ipython",
    "version": 3
   },
   "file_extension": ".py",
   "mimetype": "text/x-python",
   "name": "python",
   "nbconvert_exporter": "python",
   "pygments_lexer": "ipython3",
   "version": "3.11.0"
  },
  "orig_nbformat": 4
 },
 "nbformat": 4,
 "nbformat_minor": 2
}
