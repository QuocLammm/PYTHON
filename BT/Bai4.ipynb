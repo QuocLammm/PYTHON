{
 "cells": [
  {
   "cell_type": "markdown",
   "metadata": {},
   "source": [
    "#### <span style = \"color : purple\"> Giới thiệu vêf lập trình Python (tt) ####\n",
    "---\n",
    "**<span style = \"color: yellow\">Thư viện trong Python**\n",
    "- random: Thư viện phép toán xác suất.( ngẫu nhiên )\n",
    "    + from: Cho phép chúng tôi xác định rất cụ thể về những gì chúng tôi muốn nhập.\n",
    "    + randint(a, b): Hàm này sẽ tạo ra một số ngẫu nhiên giữa a và b.\n",
    "    + shuffle(x): Nơi nó sẽ xáo trộn danh sách thành một thứ tự ngẫu nhiên.\n",
    "- statistics: Số liệu thống kê.\n",
    "    + mean: trung bình cộng.\n",
    "- sys: Đối số dòng lệnh.\n",
    "    + argv: phép chúng ta tìm hiểu về những gì người dùng đã nhập vào dòng lệnh\n",
    "    + exit: Cho phép chúng tôi thoát khỏi chương trình nếu người dùng gặp lỗ.\n",
    "    + slice là một lệnh cho phép chúng ta lấy a list và cho trình biên dịch biết nơi chúng ta muốn trình biên dịch xem xét điểm bắt đầu list và kết thúc của list .\n",
    "    + cowsay là một gói nổi tiếng cho phép một con bò nói chuyện với người dùng.\n",
    "\n",
    "\n"
   ]
  },
  {
   "cell_type": "markdown",
   "metadata": {},
   "source": [
    "# <span style = \"color : yellow\">Ngẫu nhiên #"
   ]
  },
  {
   "cell_type": "code",
   "execution_count": 16,
   "metadata": {},
   "outputs": [
    {
     "name": "stdout",
     "output_type": "stream",
     "text": [
      "Đan\n"
     ]
    }
   ],
   "source": [
    "import random\n",
    "\n",
    "coin = random.choice([\"Lâm\", \"Đan\"])\n",
    "print(coin)\n"
   ]
  },
  {
   "cell_type": "markdown",
   "metadata": {},
   "source": [
    "Random : Thực hiện phép toán và đưa ra 50% cơ hội cho 2 giá trị bên trong choice"
   ]
  },
  {
   "cell_type": "code",
   "execution_count": 26,
   "metadata": {},
   "outputs": [
    {
     "name": "stdout",
     "output_type": "stream",
     "text": [
      "Quốc Lâm\n"
     ]
    }
   ],
   "source": [
    "from random import choice\n",
    "\n",
    "coin = choice([\"Duy Đan\",\"Quốc Lâm\"])\n",
    "print(coin)"
   ]
  },
  {
   "cell_type": "markdown",
   "metadata": {},
   "source": [
    "Tối ưu code của mình bằng from"
   ]
  },
  {
   "cell_type": "code",
   "execution_count": 31,
   "metadata": {},
   "outputs": [
    {
     "name": "stdout",
     "output_type": "stream",
     "text": [
      "2\n"
     ]
    }
   ],
   "source": [
    "import random\n",
    "\n",
    "num = random.randint(1,10)\n",
    "print(num)"
   ]
  },
  {
   "cell_type": "code",
   "execution_count": 34,
   "metadata": {},
   "outputs": [
    {
     "name": "stdout",
     "output_type": "stream",
     "text": [
      "['Jack', 'Slayer', 'Messi']\n",
      "['Jack', 'Slayer', 'Messi']\n",
      "['Jack', 'Slayer', 'Messi']\n"
     ]
    }
   ],
   "source": [
    "import random\n",
    "\n",
    "card = [\"Jack\", \"Messi\", \"Slayer\"]\n",
    "random.shuffle(card)\n",
    "for s in  card:\n",
    "    print(card)"
   ]
  },
  {
   "cell_type": "markdown",
   "metadata": {},
   "source": [
    "xáo trộn các dữ liệu có trong card một cách ngẫu nhiên."
   ]
  },
  {
   "cell_type": "markdown",
   "metadata": {},
   "source": [
    "# <span style = \"color : yellow\">Số liệu thống kê #"
   ]
  },
  {
   "cell_type": "code",
   "execution_count": 22,
   "metadata": {},
   "outputs": [
    {
     "name": "stdout",
     "output_type": "stream",
     "text": [
      "95\n"
     ]
    }
   ],
   "source": [
    "import statistics\n",
    "print(statistics.mean([100, 90]))\n"
   ]
  },
  {
   "cell_type": "code",
   "execution_count": 35,
   "metadata": {},
   "outputs": [
    {
     "name": "stdout",
     "output_type": "stream",
     "text": [
      "Hello , my name is  --ip=127.0.0.1\n"
     ]
    }
   ],
   "source": [
    "import sys\n",
    "\n",
    "print(\"Hello , my name is \", sys.argv[1])"
   ]
  },
  {
   "cell_type": "markdown",
   "metadata": {},
   "source": [
    "Chuỗi \"Hello, my name is\" ở vị trí số 1 nó sẽ in ra địa chỉ. "
   ]
  },
  {
   "cell_type": "code",
   "execution_count": 38,
   "metadata": {},
   "outputs": [
    {
     "name": "stdout",
     "output_type": "stream",
     "text": [
      "Hello, my name is --ip=127.0.0.1\n"
     ]
    }
   ],
   "source": [
    "import sys\n",
    "try:\n",
    "    print(\"Hello, my name is\", sys.argv[1])\n",
    "except ValueError:\n",
    "    print(\"Too few\")"
   ]
  },
  {
   "cell_type": "code",
   "execution_count": 39,
   "metadata": {},
   "outputs": [
    {
     "name": "stdout",
     "output_type": "stream",
     "text": [
      "Too many\n"
     ]
    }
   ],
   "source": [
    "import sys\n",
    "\n",
    "if len(sys.argv)  < 2:\n",
    "    print(\"Too few\")\n",
    "if len(sys.argv ) > 2:\n",
    "    print(\"Too many\")\n",
    "else:\n",
    "    print(\"Hello, my name is\", sys.argv[1])\n",
    "    "
   ]
  },
  {
   "cell_type": "markdown",
   "metadata": {},
   "source": [
    "Chuỗi \"Hello, my name is\" độ dài của nó lớn hơn 2 nên sẽ in ra kết quả là Too many."
   ]
  },
  {
   "cell_type": "code",
   "execution_count": 42,
   "metadata": {},
   "outputs": [
    {
     "ename": "SystemExit",
     "evalue": "Too many",
     "output_type": "error",
     "traceback": [
      "An exception has occurred, use %tb to see the full traceback.\n",
      "\u001b[1;31mSystemExit\u001b[0m\u001b[1;31m:\u001b[0m Too many\n"
     ]
    }
   ],
   "source": [
    "import sys\n",
    "\n",
    "if len(sys.argv) < 2:\n",
    "    sys.exit(\"Too few\")\n",
    "elif len(sys.argv) > 2:\n",
    "    sys.exit(\"Too many\")\n",
    "print(\"Hello, my name ís\", sys.argv[1])\n",
    "        "
   ]
  },
  {
   "cell_type": "markdown",
   "metadata": {},
   "source": [
    "`sys.exit cung cấp một phương tiện để chương trình có thể thoát ra nếu có lỗi phát sinh.`"
   ]
  },
  {
   "cell_type": "code",
   "execution_count": 44,
   "metadata": {},
   "outputs": [
    {
     "name": "stdout",
     "output_type": "stream",
     "text": [
      "hello, my name is C:\\Users\\MSI\\AppData\\Roaming\\Python\\Python311\\site-packages\\ipykernel_launcher.py\n",
      "hello, my name is --ip=127.0.0.1\n",
      "hello, my name is --stdin=9003\n",
      "hello, my name is --control=9001\n",
      "hello, my name is --hb=9000\n",
      "hello, my name is --Session.signature_scheme=\"hmac-sha256\"\n",
      "hello, my name is --Session.key=b\"c90ebdb7-3587-4d1f-96e3-b1ce2592fc5e\"\n",
      "hello, my name is --shell=9002\n",
      "hello, my name is --transport=\"tcp\"\n",
      "hello, my name is --iopub=9004\n",
      "hello, my name is --f=c:\\Users\\MSI\\AppData\\Roaming\\jupyter\\runtime\\kernel-v2-14560kk0uGuwNzorz.json\n"
     ]
    }
   ],
   "source": [
    "import sys\n",
    "if len(sys.argv) < 2:\n",
    "    sys.exit(\"Too few arguments\")\n",
    "for arg in sys.argv:\n",
    "    print(\"hello, my name is\", arg)\n"
   ]
  },
  {
   "cell_type": "code",
   "execution_count": 45,
   "metadata": {},
   "outputs": [
    {
     "name": "stdout",
     "output_type": "stream",
     "text": [
      "hello, my name is --ip=127.0.0.1\n",
      "hello, my name is --stdin=9003\n",
      "hello, my name is --control=9001\n",
      "hello, my name is --hb=9000\n",
      "hello, my name is --Session.signature_scheme=\"hmac-sha256\"\n",
      "hello, my name is --Session.key=b\"c90ebdb7-3587-4d1f-96e3-b1ce2592fc5e\"\n",
      "hello, my name is --shell=9002\n",
      "hello, my name is --transport=\"tcp\"\n",
      "hello, my name is --iopub=9004\n",
      "hello, my name is --f=c:\\Users\\MSI\\AppData\\Roaming\\jupyter\\runtime\\kernel-v2-14560kk0uGuwNzorz.json\n"
     ]
    }
   ],
   "source": [
    "import sys\n",
    "if len(sys.argv) < 2:\n",
    "    sys.exit(\"Too few arguments\")\n",
    "for arg in sys.argv[1:]:\n",
    "    print(\"hello, my name is\", arg)"
   ]
  },
  {
   "cell_type": "markdown",
   "metadata": {},
   "source": [
    "# <span style = \"color : yellow\">Gói #"
   ]
  },
  {
   "cell_type": "code",
   "execution_count": 1,
   "metadata": {},
   "outputs": [],
   "source": [
    "import cowsay\n",
    "import sys\n",
    "if len(sys.argv) == 2:\n",
    "    cowsay.cow(\"hello, \" + sys.argv[1])"
   ]
  }
 ],
 "metadata": {
  "kernelspec": {
   "display_name": "Python 3",
   "language": "python",
   "name": "python3"
  },
  "language_info": {
   "codemirror_mode": {
    "name": "ipython",
    "version": 3
   },
   "file_extension": ".py",
   "mimetype": "text/x-python",
   "name": "python",
   "nbconvert_exporter": "python",
   "pygments_lexer": "ipython3",
   "version": "3.11.0"
  },
  "orig_nbformat": 4
 },
 "nbformat": 4,
 "nbformat_minor": 2
}
