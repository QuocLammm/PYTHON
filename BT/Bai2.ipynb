{
 "cells": [
  {
   "cell_type": "markdown",
   "metadata": {},
   "source": [
    "#### <span style = \"color : purple\"> Giới thiệu vêf lập trình Python (tt) ####\n",
    "---\n",
    "**<span style = \"color: yellow\">Vòng lặp while, cải thiện đầu vào, thông tin về danh sách, chiều dài, từ điển, mario, tổng hợp**\n",
    "- Vòng lặp while.\n",
    "- Vòng lặp for.\n",
    "- Tính độ dài : len.\n",
    "- Danh sách: list.\n",
    "- Vẽ cột hàng : dict."
   ]
  },
  {
   "cell_type": "code",
   "execution_count": 2,
   "metadata": {},
   "outputs": [
    {
     "name": "stdout",
     "output_type": "stream",
     "text": [
      "meow\n",
      "meow\n",
      "meow\n"
     ]
    }
   ],
   "source": [
    "i = 3\n",
    "while i != 0:\n",
    " print(\"meow\")\n",
    " i = i - 1\n"
   ]
  },
  {
   "cell_type": "code",
   "execution_count": 6,
   "metadata": {},
   "outputs": [
    {
     "name": "stdout",
     "output_type": "stream",
     "text": [
      "meow\n",
      "meow\n",
      "meow\n"
     ]
    }
   ],
   "source": [
    "for i in [0, 1, 2]:\n",
    "    print(\"meow\")"
   ]
  },
  {
   "cell_type": "code",
   "execution_count": 7,
   "metadata": {},
   "outputs": [
    {
     "name": "stdout",
     "output_type": "stream",
     "text": [
      "meow\n",
      "meow\n",
      "meow\n"
     ]
    }
   ],
   "source": [
    "for i in range(3):\n",
    " print(\"meow\")\n"
   ]
  },
  {
   "cell_type": "code",
   "execution_count": 10,
   "metadata": {},
   "outputs": [
    {
     "name": "stdout",
     "output_type": "stream",
     "text": [
      "meowmeowmeow\n",
      "meow\n",
      "meow\n",
      "meow\n",
      "meowmeowmeow\n",
      "meow\n",
      "meow\n",
      "meow\n",
      "meowmeowmeow\n",
      "meow\n",
      "meow\n",
      "meow\n"
     ]
    }
   ],
   "source": [
    "for _ in range(3):\n",
    "    print(\"meow\" * 3)\n",
    "    print(\"meow\\n\" * 3, end=\"\")\n",
    "\n"
   ]
  },
  {
   "cell_type": "markdown",
   "metadata": {},
   "source": [
    "**`Cải thiện lấy đầu vào của người dùng`**"
   ]
  },
  {
   "cell_type": "code",
   "execution_count": 12,
   "metadata": {},
   "outputs": [],
   "source": [
    "while True:\n",
    " n = int(input(\"What's n? \"))\n",
    " if n < 0:\n",
    "    continue    \n",
    " else:\n",
    "    break"
   ]
  },
  {
   "cell_type": "code",
   "execution_count": 13,
   "metadata": {},
   "outputs": [
    {
     "name": "stdout",
     "output_type": "stream",
     "text": [
      "meow\n",
      "meow\n",
      "meow\n"
     ]
    }
   ],
   "source": [
    "while True:\n",
    " n = int(input(\"What's n? \"))\n",
    " if n > 0:\n",
    "    break\n",
    "for _ in range(n):\n",
    " print(\"meow\")\n"
   ]
  },
  {
   "cell_type": "markdown",
   "metadata": {},
   "source": [
    "**`Dùng hàm để cải thiện code`**"
   ]
  },
  {
   "cell_type": "code",
   "execution_count": 25,
   "metadata": {},
   "outputs": [],
   "source": [
    "def main ():\n",
    "    number= get_number()\n",
    "    meow(number)\n",
    "    \n",
    "def get_number():\n",
    "    while True:\n",
    "        n= int(input(\"What's n?\"))\n",
    "        if n > 0:\n",
    "            break\n",
    "        return n\n",
    "    \n",
    "def meow(n):\n",
    "    for _ in range(n):\n",
    "        print(\"meow\")\n",
    "        \n",
    "main()"
   ]
  },
  {
   "cell_type": "markdown",
   "metadata": {},
   "source": [
    "**`Thêm về danh sách`**"
   ]
  },
  {
   "cell_type": "code",
   "execution_count": 18,
   "metadata": {},
   "outputs": [
    {
     "name": "stdout",
     "output_type": "stream",
     "text": [
      "Lâm\n",
      "Đan\n",
      "Thành\n"
     ]
    }
   ],
   "source": [
    "student = [\"Lâm\",\"Đan\",\"Thành\"]\n",
    "\n",
    "print(student[0])\n",
    "print(student[1])\n",
    "print(student[2])"
   ]
  },
  {
   "cell_type": "code",
   "execution_count": 19,
   "metadata": {},
   "outputs": [
    {
     "name": "stdout",
     "output_type": "stream",
     "text": [
      "['Lâm', 'Đan', 'Thành']\n",
      "['Lâm', 'Đan', 'Thành']\n",
      "['Lâm', 'Đan', 'Thành']\n"
     ]
    }
   ],
   "source": [
    "student = [\"Lâm\",\"Đan\",\"Thành\"]\n",
    "\n",
    "for s in student :\n",
    "    print(student)"
   ]
  },
  {
   "cell_type": "markdown",
   "metadata": {},
   "source": [
    "**`Chiều dài của chuỗi`**"
   ]
  },
  {
   "cell_type": "code",
   "execution_count": 20,
   "metadata": {},
   "outputs": [
    {
     "name": "stdout",
     "output_type": "stream",
     "text": [
      "1 Lâm\n",
      "2 Đan\n",
      "3 Thành\n"
     ]
    }
   ],
   "source": [
    "student = [\"Lâm\",\"Đan\",\"Thành\"]\n",
    "\n",
    "for i in range(len(student)):\n",
    "    print(i+1, student[i])"
   ]
  },
  {
   "cell_type": "markdown",
   "metadata": {},
   "source": [
    "**`Từ điển`**"
   ]
  },
  {
   "cell_type": "code",
   "execution_count": 21,
   "metadata": {},
   "outputs": [],
   "source": [
    "student = [\"Lâm\",\"Đan\",\"Thành\",\"Phúc\",\"Đạt\"]\n",
    "house = [\"Simson\",\"Simson\",\"Simson\",\"Harry\",\"Leng\"]"
   ]
  },
  {
   "cell_type": "code",
   "execution_count": 23,
   "metadata": {},
   "outputs": [
    {
     "name": "stdout",
     "output_type": "stream",
     "text": [
      "Hermoine\n",
      "Harry\n",
      "Ron\n",
      "Draco\n"
     ]
    }
   ],
   "source": [
    "student = {\n",
    " \"Hermoine\": \"Gryffindor\",\n",
    " \"Harry\": \"Gryffindor\",\n",
    " \"Ron\": \"Gryffindor\",\n",
    " \"Draco\": \"Slytherin\",\n",
    "}\n",
    "for s in student:\n",
    "    print(s)\n"
   ]
  },
  {
   "cell_type": "code",
   "execution_count": 26,
   "metadata": {},
   "outputs": [
    {
     "name": "stdout",
     "output_type": "stream",
     "text": [
      "Hermoine Gryffindor\n",
      "Harry Gryffindor\n",
      "Ron Gryffindor\n",
      "Draco Slytherin\n"
     ]
    }
   ],
   "source": [
    "students = {\n",
    " \"Hermoine\": \"Gryffindor\",\n",
    " \"Harry\": \"Gryffindor\",\n",
    " \"Ron\": \"Gryffindor\",\n",
    " \"Draco\": \"Slytherin\",\n",
    "}\n",
    "for s in student:\n",
    "    print(s, student[s])\n"
   ]
  },
  {
   "cell_type": "markdown",
   "metadata": {},
   "source": [
    "**`Mario`**"
   ]
  },
  {
   "cell_type": "code",
   "execution_count": 27,
   "metadata": {},
   "outputs": [
    {
     "name": "stdout",
     "output_type": "stream",
     "text": [
      "#\n",
      "#\n",
      "#\n"
     ]
    }
   ],
   "source": [
    "for _ in  range(3):\n",
    "    print(\"#\")"
   ]
  },
  {
   "cell_type": "code",
   "execution_count": 28,
   "metadata": {},
   "outputs": [
    {
     "name": "stdout",
     "output_type": "stream",
     "text": [
      "#\n",
      "#\n",
      "#\n"
     ]
    }
   ],
   "source": [
    "def main():\n",
    "    print_c(3)\n",
    "    \n",
    "def print_c(height):\n",
    "    for _ in range(height):\n",
    "        print (\"#\")\n",
    "        \n",
    "main()"
   ]
  },
  {
   "cell_type": "code",
   "execution_count": 29,
   "metadata": {},
   "outputs": [
    {
     "name": "stdout",
     "output_type": "stream",
     "text": [
      "@@@@\n"
     ]
    }
   ],
   "source": [
    "def main():\n",
    "    print_r(4)\n",
    "    \n",
    "def print_r(width):\n",
    "    print(\"@\" * width)\n",
    "    \n",
    "main()"
   ]
  },
  {
   "cell_type": "code",
   "execution_count": 30,
   "metadata": {},
   "outputs": [
    {
     "name": "stdout",
     "output_type": "stream",
     "text": [
      "###\n",
      "###\n",
      "###\n"
     ]
    }
   ],
   "source": [
    "def main():\n",
    "    print_square(3)\n",
    "    \n",
    "def print_square(size):\n",
    "    for i in range(size):\n",
    "        for j in range(size):\n",
    "            print(\"#\", end=\"\")\n",
    "        print()\n",
    "main()"
   ]
  },
  {
   "cell_type": "code",
   "execution_count": 31,
   "metadata": {},
   "outputs": [
    {
     "name": "stdout",
     "output_type": "stream",
     "text": [
      "####\n",
      "####\n",
      "####\n",
      "####\n"
     ]
    }
   ],
   "source": [
    "def main():\n",
    "    print_square(4)\n",
    "    \n",
    "def print_square(size):\n",
    "    for i in range(size):\n",
    "        print_r(size)\n",
    "        \n",
    "def print_r(width):\n",
    "    print(\"#\" * width)\n",
    "    \n",
    "main()"
   ]
  }
 ],
 "metadata": {
  "kernelspec": {
   "display_name": "Python 3",
   "language": "python",
   "name": "python3"
  },
  "language_info": {
   "codemirror_mode": {
    "name": "ipython",
    "version": 3
   },
   "file_extension": ".py",
   "mimetype": "text/x-python",
   "name": "python",
   "nbconvert_exporter": "python",
   "pygments_lexer": "ipython3",
   "version": "3.11.0"
  },
  "orig_nbformat": 4
 },
 "nbformat": 4,
 "nbformat_minor": 2
}
