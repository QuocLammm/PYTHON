{
 "cells": [
  {
   "cell_type": "markdown",
   "metadata": {},
   "source": [
    "#### <span : style = \"color :red \">Bài tập tuần 1 ####"
   ]
  },
  {
   "cell_type": "markdown",
   "metadata": {},
   "source": [
    "`Bài 1. Deep thought`"
   ]
  },
  {
   "cell_type": "code",
   "execution_count": 4,
   "metadata": {},
   "outputs": [
    {
     "name": "stdout",
     "output_type": "stream",
     "text": [
      "Yes\n"
     ]
    }
   ],
   "source": [
    "def check_answer(a):# a : dữ liệu người nhập\n",
    "    # Kiểm tra câu trả lời\n",
    "    if a == \"42\" or a == \"fortytwo\" or a == \"forty-two\":\n",
    "        return \"Yes\"\n",
    "    else:\n",
    "        return \"No\"\n",
    "    \n",
    "def main():\n",
    "    question = \"What is the answer to the Great Question of Life, the Universe, and Everything?\"\n",
    "    a = input(question + \"\\n\").lower()\n",
    "    S = check_answer(a)\n",
    "    print( S)\n",
    "main()\n"
   ]
  },
  {
   "cell_type": "markdown",
   "metadata": {},
   "source": [
    "`Bài 2. Bank`\n"
   ]
  },
  {
   "cell_type": "code",
   "execution_count": 7,
   "metadata": {},
   "outputs": [
    {
     "name": "stdout",
     "output_type": "stream",
     "text": [
      "$100\n"
     ]
    }
   ],
   "source": [
    "def calculate_bonus(a):\n",
    "    a = a.lower().strip()\n",
    "\n",
    "    if a == \"hello\":\n",
    "        return \"$0\"\n",
    "    elif a.startswith(\"h\"):\n",
    "        return \"$20\"\n",
    "    else:\n",
    "        return \"$100\"\n",
    "\n",
    "def main():\n",
    "    a = input(\"Nhập lời chào của bạn: \")\n",
    "    money = calculate_bonus(a)\n",
    "    print(money)\n",
    "    \n",
    "main()"
   ]
  },
  {
   "cell_type": "markdown",
   "metadata": {},
   "source": [
    "`startwith()`: Sử dụng để kiểm tra xem chuỗi có bắt đầu bằng một chuỗi con (substring) cụ thể hay không."
   ]
  },
  {
   "cell_type": "markdown",
   "metadata": {},
   "source": [
    "`Bài 3. File extension`\n"
   ]
  },
  {
   "cell_type": "code",
   "execution_count": 6,
   "metadata": {},
   "outputs": [
    {
     "name": "stdout",
     "output_type": "stream",
     "text": [
      "Loại phương tiện: image/jpeg\n"
     ]
    }
   ],
   "source": [
    "def get_media_type(filename):\n",
    "    # Chuyển đổi tên tệp thành chữ thường để so sánh không phân biệt hoa thường\n",
    "    lowercase_filename = filename.lower()\n",
    "\n",
    "    # Ánh xạ phần mở rộng (hậu tố) với loại phương tiện tương ứng\n",
    "    loai_pt = {\n",
    "        'gif': 'image/gif',\n",
    "        'jpg': 'image/jpeg',\n",
    "        'jpeg': 'image/jpeg',\n",
    "        'png': 'image/png',\n",
    "        'pdf': 'application/pdf',\n",
    "        'txt': 'text/plain',\n",
    "        'zip': 'application/zip'\n",
    "    }\n",
    "\n",
    "    # Lấy phần mở rộng (hậu tố) của tệp\n",
    "    file = lowercase_filename.split('.')[-1]\n",
    "\n",
    "    # Kiểm tra xem hậu tố có nằm trong danh sách phương tiện hay không\n",
    "    if file in loai_pt:\n",
    "        return f\"{loai_pt[file]}\"\n",
    "    # Trường hợp không khớp với bất kỳ hậu tố nào\n",
    "    return \"Loại phương tiện: application/octet-stream\"\n",
    "\n",
    "def main():\n",
    "    # Nhập tên tệp từ người dùng\n",
    "    filename = input(\"Nhập tên tệp: \")\n",
    "    # Lấy loại phương tiện của tệp và xuất ra màn hình\n",
    "    print(get_media_type(filename))\n",
    "\n",
    "if __name__ == \"__main__\":\n",
    "    main()\n"
   ]
  },
  {
   "cell_type": "markdown",
   "metadata": {},
   "source": [
    "`Bài 4. Interpreter`"
   ]
  },
  {
   "cell_type": "code",
   "execution_count": 4,
   "metadata": {},
   "outputs": [
    {
     "name": "stdout",
     "output_type": "stream",
     "text": [
      "2\n"
     ]
    }
   ],
   "source": [
    "def calculate_expression(pt):\n",
    "    try:\n",
    "        # Tách biểu thức thành các thành phần x, y, và z\n",
    "        x, tt, z = pt.split()\n",
    "\n",
    "        # Chuyển đổi x và z thành số nguyên\n",
    "        x = int(x)\n",
    "        z = int(z)\n",
    "\n",
    "        # Tính toán kết quả dựa trên toán tử\n",
    "        if tt == \"+\":\n",
    "            c = x + z\n",
    "        elif tt == \"-\":\n",
    "            c = x - z\n",
    "        elif tt == \"*\":\n",
    "            c = x * z\n",
    "        elif tt == \"/\":\n",
    "            if z == 0:\n",
    "                return \"Không thể chia cho 0\"\n",
    "            c = x / z\n",
    "        else:\n",
    "            return \"Toán tử không hợp lệ\"\n",
    "\n",
    "        return round(c, 1)  # Làm tròn kết quả đến 1 chữ số thập phân\n",
    "    except ValueError:\n",
    "        return \"Định dạng không hợp lệ\"\n",
    "\n",
    "def main():\n",
    "    a = input(\"Nhập biểu thức số học (ví dụ: 1 + 1): \")\n",
    "    print(calculate_expression(a))\n",
    "    \n",
    "main()\n"
   ]
  },
  {
   "cell_type": "markdown",
   "metadata": {},
   "source": [
    "`Bài 5. Meal time`"
   ]
  },
  {
   "cell_type": "code",
   "execution_count": 2,
   "metadata": {},
   "outputs": [
    {
     "name": "stdout",
     "output_type": "stream",
     "text": [
      "breakfast time\n"
     ]
    }
   ],
   "source": [
    "def main():\n",
    "    time = input(\"Nhập thời gian (HH:MM): \")\n",
    "    a = convert(time)\n",
    "    print(a)\n",
    "   \n",
    "    \n",
    "def convert(time):\n",
    "    # Tách giờ và phút từ chuỗi thời gian\n",
    "    hours, minutes = map(int, time.split(':'))\n",
    "    # Xác định giờ dưới dạng số thập phân\n",
    "    time = hours + minutes / 60.0\n",
    "    \n",
    "    if(time >= 7.0 and time < 8.0):\n",
    "        return \"Breakfast time\"\n",
    "    elif(time >= 12.0 and time < 13.0):\n",
    "        return \"Lunch time\"\n",
    "    elif(time >= 18.0 and time < 19.0):\n",
    "        return \"Dinner time\"\n",
    "    else:\n",
    "        return \"\"\n",
    "    \n",
    "if __name__ == \"__main__\":  \n",
    "    main()"
   ]
  }
 ],
 "metadata": {
  "kernelspec": {
   "display_name": "Python 3",
   "language": "python",
   "name": "python3"
  },
  "language_info": {
   "codemirror_mode": {
    "name": "ipython",
    "version": 3
   },
   "file_extension": ".py",
   "mimetype": "text/x-python",
   "name": "python",
   "nbconvert_exporter": "python",
   "pygments_lexer": "ipython3",
   "version": "3.11.0"
  },
  "orig_nbformat": 4
 },
 "nbformat": 4,
 "nbformat_minor": 2
}
