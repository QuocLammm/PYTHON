{
 "cells": [
  {
   "cell_type": "markdown",
   "metadata": {},
   "source": [
    "#### <span : style = \"color :red \">Bài tập tuần 1 ####"
   ]
  },
  {
   "cell_type": "markdown",
   "metadata": {},
   "source": [
    "**`Bài 1: Indoor`**"
   ]
  },
  {
   "cell_type": "code",
   "execution_count": 5,
   "metadata": {},
   "outputs": [
    {
     "name": "stdout",
     "output_type": "stream",
     "text": [
      "Dữ liệu đầu vào sau khi chuyển thành chữ thường:\n",
      "3\n"
     ]
    }
   ],
   "source": [
    "def convert(input_str):\n",
    "    lowercase_str = ''\n",
    "    for char in input_str:\n",
    "        if char.isalpha():\n",
    "            # Convert alphabetic characters to lowercase\n",
    "            lowercase_str += char.lower()\n",
    "        else:\n",
    "            # Preserve non-alphabetic characters\n",
    "            lowercase_str += char\n",
    "    return lowercase_str\n",
    "\n",
    "def main():\n",
    "    user_input = input(\"Nhập dữ liệu: \")\n",
    "    lowercase_input = convert(user_input)\n",
    "    print(lowercase_input)\n",
    "\n",
    "main()"
   ]
  },
  {
   "cell_type": "markdown",
   "metadata": {},
   "source": [
    "**` Bài 2: PlayBack`**"
   ]
  },
  {
   "cell_type": "code",
   "execution_count": 6,
   "metadata": {},
   "outputs": [
    {
     "name": "stdout",
     "output_type": "stream",
     "text": [
      "Thông tin đầu vào sau khi thay thế khoảng trắng bằng ba dấu chấm:\n",
      "hello.........cac...ban\n"
     ]
    }
   ],
   "source": [
    "if __name__ == \"__main__\":\n",
    "    user = input(\"Nhập thông tin: \")\n",
    "    replaced = user.replace(' ', '...')\n",
    "    print(replaced)\n"
   ]
  },
  {
   "cell_type": "markdown",
   "metadata": {},
   "source": [
    "**`Bài 3: Making faces`**\n"
   ]
  },
  {
   "cell_type": "code",
   "execution_count": null,
   "metadata": {},
   "outputs": [],
   "source": [
    "def convert(a):\n",
    "    # Chuyển đổi :) thành khuôn mặt hơi mỉm cười\n",
    "    out = a.replace(\":)\", \"🙂\")\n",
    "    # Chuyển đổi :( thành khuôn mặt hơi cau mày\n",
    "    out = out.replace(\":(\", \"🙁\")\n",
    "    return out\n",
    "\n",
    "def main():\n",
    "    a = input(\"Nhập thông tin:\")\n",
    "    result = convert(a)\n",
    "    print( result)\n",
    "main()"
   ]
  },
  {
   "cell_type": "markdown",
   "metadata": {},
   "source": [
    "**`Bài 4: Einstein`**"
   ]
  },
  {
   "cell_type": "code",
   "execution_count": null,
   "metadata": {},
   "outputs": [],
   "source": [
    "def Einstein(m, c):\n",
    "    E = pow(m * c, 2)\n",
    "    return E\n",
    "\n",
    "def main():\n",
    "    m = float(input(\"Nhập khối lượng (kg): \")) \n",
    "    c = float(input(\"Nhập tốc độ ánh sáng (m/s): \")) \n",
    "    S = Einstein(m, c)\n",
    "    print(\"Năng lượng theo công thức của Einstein:\", S)\n",
    "main()"
   ]
  },
  {
   "cell_type": "markdown",
   "metadata": {},
   "source": [
    "**`Bài 5: Tip calculation`**"
   ]
  },
  {
   "cell_type": "code",
   "execution_count": null,
   "metadata": {},
   "outputs": [],
   "source": [
    "def main():\n",
    "    dollars = dollars_to_float(input(\"How much was the meal? \"))\n",
    "    percent = percent_to_float(input(\"What percentage would you like to tip? \"))\n",
    "    tip = dollars * percent\n",
    "    print(f\"Leave ${tip:.2f}\")\n",
    " \n",
    "def dollars_to_float(d):\n",
    "    #Loại bỏ ký tự \"$\"\n",
    "    a = float(d.replace('$',''))\n",
    "    return a\n",
    "    print(a)\n",
    " \n",
    "def percent_to_float(p):\n",
    "    #Loại bỏ ký tự \"%\"\n",
    "    b = float(p.replace('%',''))/100\n",
    "    return b\n",
    " \n",
    "main()"
   ]
  }
 ],
 "metadata": {
  "kernelspec": {
   "display_name": "Python 3",
   "language": "python",
   "name": "python3"
  },
  "language_info": {
   "codemirror_mode": {
    "name": "ipython",
    "version": 3
   },
   "file_extension": ".py",
   "mimetype": "text/x-python",
   "name": "python",
   "nbconvert_exporter": "python",
   "pygments_lexer": "ipython3",
   "version": "3.11.0"
  },
  "orig_nbformat": 4
 },
 "nbformat": 4,
 "nbformat_minor": 2
}
