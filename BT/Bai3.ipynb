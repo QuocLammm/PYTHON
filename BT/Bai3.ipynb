{
 "cells": [
  {
   "cell_type": "markdown",
   "metadata": {},
   "source": [
    "#### <span style = \"color : purple\"> Giới thiệu vêf lập trình Python (tt) ####\n",
    "---\n",
    "**<span style = \"color: yellow\">Xử lý ngoại lệ**\n",
    "- Try .. except"
   ]
  },
  {
   "cell_type": "code",
   "execution_count": 1,
   "metadata": {},
   "outputs": [
    {
     "name": "stdout",
     "output_type": "stream",
     "text": [
      "x is 2\n"
     ]
    }
   ],
   "source": [
    "x = int(input(\"What's x? \"))\n",
    "print(f\"x is {x}\")\n"
   ]
  },
  {
   "cell_type": "code",
   "execution_count": 3,
   "metadata": {},
   "outputs": [
    {
     "name": "stdout",
     "output_type": "stream",
     "text": [
      "Bạn đã nhập sai dữ liệu!\n"
     ]
    }
   ],
   "source": [
    "try:\n",
    "    x = int(input(\"Nhập x:\"))\n",
    "    print(f\"x is {x}\")\n",
    "except ValueError:\n",
    "    print(\"Bạn đã nhập sai dữ liệu!\")\n"
   ]
  },
  {
   "cell_type": "code",
   "execution_count": 5,
   "metadata": {},
   "outputs": [
    {
     "name": "stdout",
     "output_type": "stream",
     "text": [
      "Bạn đã nhập sai dữ liệu\n",
      "x is 12\n"
     ]
    }
   ],
   "source": [
    "try:\n",
    "    x = int(input(\"Nhập x:\"))\n",
    "except ValueError:\n",
    "    print(\"Bạn đã nhập sai dữ liệu\")\n",
    "print(f\"x is {x}\")"
   ]
  },
  {
   "cell_type": "markdown",
   "metadata": {},
   "source": [
    "trong trường hợp này thì khi nhập saii dữ liệu nhưng biến x vẫn có kq vì nó lấy giá trị đúng ở trước đó."
   ]
  },
  {
   "cell_type": "code",
   "execution_count": 7,
   "metadata": {},
   "outputs": [
    {
     "name": "stdout",
     "output_type": "stream",
     "text": [
      "Bạn đã nhập sai dữ liệu!\n"
     ]
    }
   ],
   "source": [
    "try:\n",
    "    x = int(input(\"Nhập x:\"))\n",
    "except ValueError:\n",
    "    print(\"Bạn đã nhập sai dữ liệu!\")\n",
    "else:\n",
    "    print(f\"x is {x}\")"
   ]
  },
  {
   "cell_type": "code",
   "execution_count": 9,
   "metadata": {},
   "outputs": [
    {
     "name": "stdout",
     "output_type": "stream",
     "text": [
      "Bạn đã nhập sai dữ liệu\n",
      "x is 2\n"
     ]
    }
   ],
   "source": [
    "while True:\n",
    "    try:\n",
    "        x = int(input(\"Nhập x:\"))\n",
    "    except ValueError:\n",
    "        print(\"Bạn đã nhập sai dữ liệu\")\n",
    "    else:\n",
    "        break\n",
    "print(f\"x is {x}\")"
   ]
  },
  {
   "cell_type": "code",
   "execution_count": 10,
   "metadata": {},
   "outputs": [
    {
     "name": "stdout",
     "output_type": "stream",
     "text": [
      "Bạn đã nhập sai dữ liệu\n",
      "2\n"
     ]
    }
   ],
   "source": [
    "def main():\n",
    "    x = get_int()\n",
    "    print(f\"x is {x}\")\n",
    "    \n",
    "def get_int():\n",
    "    while True:\n",
    "        try:\n",
    "            x = int(input(\"Nhập x:\"))\n",
    "        except ValueError:\n",
    "            print(\"Bạn đã nhập sai dữ liệu\")\n",
    "        else:\n",
    "            break\n",
    "    return x\n",
    "\n",
    "main()"
   ]
  },
  {
   "cell_type": "code",
   "execution_count": 11,
   "metadata": {},
   "outputs": [
    {
     "name": "stdout",
     "output_type": "stream",
     "text": [
      "Bạn đã nhập sai dữ liệu\n",
      "x is 1\n"
     ]
    }
   ],
   "source": [
    "def main():\n",
    "    x = get_int()\n",
    "    print(f\"x is {x}\")\n",
    "    \n",
    "def get_int():\n",
    "    while True:\n",
    "        try:\n",
    "            x = int(input(\"Nhập x:\"))\n",
    "        except ValueError:\n",
    "            print(\"Bạn đã nhập sai dữ liệu\")\n",
    "        else:\n",
    "            return x\n",
    "    \n",
    "\n",
    "main()"
   ]
  },
  {
   "cell_type": "code",
   "execution_count": 12,
   "metadata": {},
   "outputs": [
    {
     "name": "stdout",
     "output_type": "stream",
     "text": [
      "x is not an integer\n",
      "x is not an integer\n",
      "x is 12\n"
     ]
    }
   ],
   "source": [
    "def main():\n",
    "    x = get_int()\n",
    "    print(f\"x is {x}\")\n",
    "def get_int():\n",
    "    while True:\n",
    "        try:\n",
    "            return int(input(\"What's x?\"))\n",
    "        except ValueError:\n",
    "            print(\"x is not an integer\")\n",
    "main()\n"
   ]
  },
  {
   "cell_type": "markdown",
   "metadata": {},
   "source": [
    "Hàm return chỉ chạy khi bạn nhập dữ liệu đúng( int đã nhập thành công )."
   ]
  },
  {
   "cell_type": "code",
   "execution_count": 14,
   "metadata": {},
   "outputs": [
    {
     "name": "stdout",
     "output_type": "stream",
     "text": [
      "x is 2\n"
     ]
    }
   ],
   "source": [
    "def main():\n",
    "    x = get_int()\n",
    "    print(f\"x is {x}\")\n",
    "def get_int():\n",
    "    while True:\n",
    "        try:\n",
    "            return int(input(\"What's x?\"))\n",
    "        except ValueError:\n",
    "            pass\n",
    "\n",
    "main()"
   ]
  },
  {
   "cell_type": "markdown",
   "metadata": {},
   "source": [
    "Pass này chỉ thoát được nếu như bạn nhập đúng kiểu dữ liệu."
   ]
  },
  {
   "cell_type": "code",
   "execution_count": 15,
   "metadata": {},
   "outputs": [
    {
     "name": "stdout",
     "output_type": "stream",
     "text": [
      "x is 2\n"
     ]
    }
   ],
   "source": [
    "def main():\n",
    "    x = get_int(\"What's x? \")\n",
    "    print(f\"x is {x}\")\n",
    "def get_int(prompt):\n",
    "    while True:\n",
    "        try:\n",
    "            return int(input(prompt))\n",
    "        except ValueError:\n",
    "            pass\n",
    "main()\n"
   ]
  },
  {
   "cell_type": "markdown",
   "metadata": {},
   "source": [
    "Chuyển đổi đầu vào người dùng thành một số nguyên bằng int(input(prompt)). Nếu việc chuyển đổi này gây ra lỗi ValueError (do người dùng nhập không phải số), nó bỏ qua lỗi này và tiếp tục yêu cầu người dùng nhập lại."
   ]
  }
 ],
 "metadata": {
  "kernelspec": {
   "display_name": "Python 3",
   "language": "python",
   "name": "python3"
  },
  "language_info": {
   "codemirror_mode": {
    "name": "ipython",
    "version": 3
   },
   "file_extension": ".py",
   "mimetype": "text/x-python",
   "name": "python",
   "nbconvert_exporter": "python",
   "pygments_lexer": "ipython3",
   "version": "3.11.0"
  },
  "orig_nbformat": 4
 },
 "nbformat": 4,
 "nbformat_minor": 2
}
