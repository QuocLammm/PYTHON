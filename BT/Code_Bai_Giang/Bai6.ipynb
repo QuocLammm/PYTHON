{
 "cells": [
  {
   "cell_type": "markdown",
   "metadata": {},
   "source": [
    "#### <span style = \"color : purple\"> Giới thiệu vêf lập trình Python (tt) ####\n",
    "---\n",
    "**<span style = \"color: yellow\">Kiểm tra đơn vị, ASSERT, PYTEST, Chuỗi thử nghiệm, tổ chức các bài kiểm tra vào thư mục**\n",
    "- random: Thư viện phép toán xác suất.( ngẫu nhiên )\n",
    "    + from: Cho phép chúng tôi xác định rất cụ thể về những gì chúng tôi muốn nhập.\n",
    "    + randint(a, b): Hàm này sẽ tạo ra một số ngẫu nhiên giữa a và b.\n",
    "    + shuffle(x): Nơi nó sẽ xáo trộn danh sách thành một thứ tự ngẫu nhiên.\n",
    "- statistics: Số liệu thống kê.\n",
    "    + mean: trung bình cộng.\n",
    "- sys: Đối số dòng lệnh.\n",
    "    + argv: phép chúng ta tìm hiểu về những gì người dùng đã nhập vào dòng lệnh\n",
    "    + exit: Cho phép chúng tôi thoát khỏi chương trình nếu người dùng gặp lỗ.\n",
    "    + slice là một lệnh cho phép chúng ta lấy a list và cho trình biên dịch biết nơi chúng ta muốn trình biên dịch xem xét điểm bắt đầu list và kết thúc của list .\n",
    "    + cowsay là một gói nổi tiếng cho phép một con bò nói chuyện với người dùng.\n",
    "\n",
    "\n"
   ]
  },
  {
   "cell_type": "code",
   "execution_count": 1,
   "metadata": {},
   "outputs": [
    {
     "name": "stdout",
     "output_type": "stream",
     "text": [
      "x squared is 4\n"
     ]
    }
   ],
   "source": [
    "def main():\n",
    " x = int(input(\"What's x? \"))\n",
    " print(\"x squared is\", square(x))\n",
    "\n",
    "def square(n):\n",
    " return n * n\n",
    "if __name__ == \"__main__\":\n",
    " main()"
   ]
  },
  {
   "cell_type": "code",
   "execution_count": null,
   "metadata": {},
   "outputs": [],
   "source": []
  }
 ],
 "metadata": {
  "kernelspec": {
   "display_name": "Python 3",
   "language": "python",
   "name": "python3"
  },
  "language_info": {
   "codemirror_mode": {
    "name": "ipython",
    "version": 3
   },
   "file_extension": ".py",
   "mimetype": "text/x-python",
   "name": "python",
   "nbconvert_exporter": "python",
   "pygments_lexer": "ipython3",
   "version": "3.11.0"
  },
  "orig_nbformat": 4
 },
 "nbformat": 4,
 "nbformat_minor": 2
}
