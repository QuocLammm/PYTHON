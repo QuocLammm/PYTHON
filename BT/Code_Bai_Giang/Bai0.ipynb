{
 "cells": [
  {
   "cell_type": "markdown",
   "metadata": {},
   "source": [
    "#### <span style = \"color : purple\">Giới thiệu về lập trình Python</span> ###\n",
    "---\n",
    "**<span style = \"color: yellow\">Một số lệnh cơ bản trong python</span>**: \n",
    "- strip(): Xóa khoảng trắng đầu và cuối không xóa ở giữa\n",
    "- title(): Viết hoa chữ cái đầu tiên của chuỗi\n",
    "- Lệnh gán: =\n",
    "- Round(): Hàm làm tròn"
   ]
  },
  {
   "cell_type": "code",
   "execution_count": 1,
   "metadata": {},
   "outputs": [
    {
     "name": "stdout",
     "output_type": "stream",
     "text": [
      "hello, world\n"
     ]
    }
   ],
   "source": [
    "name = input(\"What's your name? \")\n",
    "print(\"hello, world\")\n"
   ]
  },
  {
   "cell_type": "code",
   "execution_count": 2,
   "metadata": {},
   "outputs": [
    {
     "name": "stdout",
     "output_type": "stream",
     "text": [
      "hello, name\n"
     ]
    }
   ],
   "source": [
    "name = input(\"What's your name? \")\n",
    "print(\"hello, name\")\n"
   ]
  },
  {
   "cell_type": "code",
   "execution_count": 3,
   "metadata": {},
   "outputs": [
    {
     "name": "stdout",
     "output_type": "stream",
     "text": [
      "hello,\n",
      "Lâm\n"
     ]
    }
   ],
   "source": [
    "name = input(\"What's your name? \")\n",
    "print(\"hello,\")\n",
    "print(name)"
   ]
  },
  {
   "cell_type": "code",
   "execution_count": 5,
   "metadata": {},
   "outputs": [
    {
     "name": "stdout",
     "output_type": "stream",
     "text": [
      "hello, Lâm\n"
     ]
    }
   ],
   "source": [
    "# Ask the user for their name\n",
    "name = input(\"What's your name? \")\n",
    "# Print hello and the inputted name\n",
    "print(\"hello, \" + name)\n",
    "\n"
   ]
  },
  {
   "cell_type": "code",
   "execution_count": 6,
   "metadata": {},
   "outputs": [
    {
     "name": "stdout",
     "output_type": "stream",
     "text": [
      "hello, Lâm\n"
     ]
    }
   ],
   "source": [
    "# Ask the user for their name\n",
    "name = input(\"What's your name? \")\n",
    "# Print hello and the inputted name\n",
    "print(\"hello,\", name)"
   ]
  },
  {
   "cell_type": "code",
   "execution_count": 7,
   "metadata": {},
   "outputs": [
    {
     "name": "stdout",
     "output_type": "stream",
     "text": [
      "hello,\n",
      "Lâm\n"
     ]
    }
   ],
   "source": [
    "# Ask the user for their name\n",
    "name = input(\"What's your name? \")\n",
    "print(\"hello,\")\n",
    "print(name)\n"
   ]
  },
  {
   "cell_type": "code",
   "execution_count": 8,
   "metadata": {},
   "outputs": [
    {
     "name": "stdout",
     "output_type": "stream",
     "text": [
      "hello,Đan\n"
     ]
    }
   ],
   "source": [
    "# Ask the user for their name\n",
    "name = input(\"What's your name? \")\n",
    "print(\"hello,\", end=\"\")\n",
    "print(name)\n"
   ]
  },
  {
   "cell_type": "code",
   "execution_count": 9,
   "metadata": {},
   "outputs": [
    {
     "name": "stdout",
     "output_type": "stream",
     "text": [
      "hello, Đan\n"
     ]
    }
   ],
   "source": [
    "# Ask the user for their name\n",
    "name = input(\"What's your name? \")\n",
    "print(f\"hello, {name}\")\n"
   ]
  },
  {
   "cell_type": "code",
   "execution_count": 10,
   "metadata": {},
   "outputs": [
    {
     "name": "stdout",
     "output_type": "stream",
     "text": [
      "hello, Lâm\n"
     ]
    }
   ],
   "source": [
    "# Ask the user for their name\n",
    "name = input(\"What's your name? \")\n",
    "# Remove whitespace from the str\n",
    "name = name.strip()\n",
    "# Print the output\n",
    "print(f\"hello, {name}\")\n"
   ]
  },
  {
   "cell_type": "code",
   "execution_count": 11,
   "metadata": {},
   "outputs": [
    {
     "name": "stdout",
     "output_type": "stream",
     "text": [
      "hello, Đạt\n"
     ]
    }
   ],
   "source": [
    "# Ask the user for their name\n",
    "name = input(\"What's your name? \")\n",
    "# Remove whitespace from the str\n",
    "name = name.strip()\n",
    "# Capitalize the first letter of each word\n",
    "name = name.title()\n",
    "# Print the output\n",
    "print(f\"hello, {name}\")\n"
   ]
  },
  {
   "cell_type": "code",
   "execution_count": 12,
   "metadata": {},
   "outputs": [
    {
     "name": "stdout",
     "output_type": "stream",
     "text": [
      "hello, Anh\n"
     ]
    }
   ],
   "source": [
    "# Ask the user for their name\n",
    "name = input(\"What's your name? \")\n",
    "# Remove whitespace from the str and capitalize the first letter of each word\n",
    "name = name.strip().title()\n",
    "# Print the output\n",
    "print(f\"hello, {name}\")\n"
   ]
  },
  {
   "cell_type": "code",
   "execution_count": 13,
   "metadata": {},
   "outputs": [
    {
     "name": "stdout",
     "output_type": "stream",
     "text": [
      "hello, Đan\n"
     ]
    }
   ],
   "source": [
    "# Ask the user for their name, remove whitespace from the str and capitalize the\n",
    "name = input(\"What's your name? \").strip().title()\n",
    "# Print the output\n",
    "print(f\"hello, {name}\")\n"
   ]
  },
  {
   "cell_type": "code",
   "execution_count": 14,
   "metadata": {},
   "outputs": [
    {
     "name": "stdout",
     "output_type": "stream",
     "text": [
      "3\n"
     ]
    }
   ],
   "source": [
    "x = 1\n",
    "y = 2\n",
    "z = x + y\n",
    "print(z)"
   ]
  },
  {
   "cell_type": "code",
   "execution_count": 15,
   "metadata": {},
   "outputs": [
    {
     "name": "stdout",
     "output_type": "stream",
     "text": [
      "34\n"
     ]
    }
   ],
   "source": [
    "x = input(\"What's x? \")\n",
    "y = input(\"What's y? \")\n",
    "z = x + y\n",
    "print(z)"
   ]
  },
  {
   "cell_type": "markdown",
   "metadata": {},
   "source": [
    "Đoạn chương trình này chỉ in ra được kết quả 2 chuỗi kết hợp với nhau."
   ]
  },
  {
   "cell_type": "code",
   "execution_count": 16,
   "metadata": {},
   "outputs": [
    {
     "name": "stdout",
     "output_type": "stream",
     "text": [
      "5\n"
     ]
    }
   ],
   "source": [
    "x = input(\"What's x? \")\n",
    "y = input(\"What's y? \")\n",
    "z = int(x) + int(y)\n",
    "print(z)\n"
   ]
  },
  {
   "cell_type": "code",
   "execution_count": 17,
   "metadata": {},
   "outputs": [
    {
     "name": "stdout",
     "output_type": "stream",
     "text": [
      "6\n"
     ]
    }
   ],
   "source": [
    "x = int(input(\"What's x? \"))\n",
    "y = int(input(\"What's y? \"))\n",
    "print(x + y)\n"
   ]
  },
  {
   "cell_type": "code",
   "execution_count": 18,
   "metadata": {},
   "outputs": [
    {
     "name": "stdout",
     "output_type": "stream",
     "text": [
      "6.0\n"
     ]
    }
   ],
   "source": [
    "x = float(input(\"What's x? \"))\n",
    "y = float(input(\"What's y? \"))\n",
    "print(x + y)"
   ]
  },
  {
   "cell_type": "code",
   "execution_count": 19,
   "metadata": {},
   "outputs": [
    {
     "name": "stdout",
     "output_type": "stream",
     "text": [
      "8\n"
     ]
    }
   ],
   "source": [
    "# Get the user's input\n",
    "x = float(input(\"What's x? \"))\n",
    "y = float(input(\"What's y? \"))\n",
    "# Create a rounded result\n",
    "z = round(x + y)\n",
    "# Print the result\n",
    "print(z)\n"
   ]
  },
  {
   "cell_type": "code",
   "execution_count": 20,
   "metadata": {},
   "outputs": [
    {
     "name": "stdout",
     "output_type": "stream",
     "text": [
      "6\n"
     ]
    }
   ],
   "source": [
    "# Get the user's input\n",
    "x = float(input(\"What's x? \"))\n",
    "y = float(input(\"What's y? \"))\n",
    "# Create a rounded result\n",
    "z = round(x + y)\n",
    "# Print the formatted result\n",
    "print(f\"{z:,}\")\n"
   ]
  },
  {
   "cell_type": "markdown",
   "metadata": {},
   "source": [
    "Đoạn chương trình trên nhập vào 2 số thực x và y kiểu float. Cộng và làm tròn với hàm round() và cho kết quả ra màn hình."
   ]
  },
  {
   "cell_type": "code",
   "execution_count": 5,
   "metadata": {},
   "outputs": [
    {
     "name": "stdout",
     "output_type": "stream",
     "text": [
      "0.75\n"
     ]
    }
   ],
   "source": [
    "# Get the user's input\n",
    "x = float(input(\"What's x? \"))\n",
    "y = float(input(\"What's y? \"))\n",
    "# Calculate the result\n",
    "z = x / y\n",
    "# Print the result\n",
    "print(z)"
   ]
  },
  {
   "cell_type": "markdown",
   "metadata": {},
   "source": [
    "Đoạn chương trình trên nhập vào 2 số thực x và y kiểu float. Thực hiện phép chia và in kết quả ra màn hình."
   ]
  },
  {
   "cell_type": "code",
   "execution_count": 1,
   "metadata": {},
   "outputs": [
    {
     "name": "stdout",
     "output_type": "stream",
     "text": [
      "0.75\n"
     ]
    }
   ],
   "source": [
    "# Get the user's input\n",
    "x = float(input(\"What's x? \"))\n",
    "y = float(input(\"What's y? \"))\n",
    "# Calculate the result and round\n",
    "z = round(x / y, 2)\n",
    "# Print the result\n",
    "print(z)"
   ]
  },
  {
   "cell_type": "markdown",
   "metadata": {},
   "source": [
    "Đoạn chương trình trên nhập vào 2 số thực x và y kiểu float. Thực hiện phép chia và làm tròn với hàm round() và lấy 2 chữ số thập phân gần nhất và in kết quả ra màn hình."
   ]
  },
  {
   "cell_type": "code",
   "execution_count": 2,
   "metadata": {},
   "outputs": [
    {
     "name": "stdout",
     "output_type": "stream",
     "text": [
      "2.00\n"
     ]
    }
   ],
   "source": [
    "# Get the user's input\n",
    "x = float(input(\"What's x? \"))\n",
    "y = float(input(\"What's y? \"))\n",
    "# Calculate the result\n",
    "z = x / y\n",
    "# Print the result\n",
    "print(f\"{z:.2f}\")\n"
   ]
  },
  {
   "cell_type": "markdown",
   "metadata": {},
   "source": [
    "Đoạn chương trình trên nhập vào 2 số thực x và y kiểu float. Thực hiện phép chia và định dạng làm tròn trước đó và lấy 2 chữ số thập phân trong lúc in ra kết quả."
   ]
  },
  {
   "cell_type": "code",
   "execution_count": 21,
   "metadata": {},
   "outputs": [
    {
     "name": "stdout",
     "output_type": "stream",
     "text": [
      "hello, Lâm\n"
     ]
    }
   ],
   "source": [
    "# Ask the user for their name, remove whitespace from the str and capitalize the\n",
    "name = input(\"What's your name? \").strip().title()\n",
    "# Print the output\n",
    "print(f\"hello, {name}\")\n"
   ]
  },
  {
   "cell_type": "code",
   "execution_count": 22,
   "metadata": {},
   "outputs": [
    {
     "name": "stdout",
     "output_type": "stream",
     "text": [
      "hello\n",
      "Lâm\n"
     ]
    }
   ],
   "source": [
    "def hello():\n",
    " print(\"hello\")\n",
    "name = input(\"What's your name? \")\n",
    "hello()\n",
    "print(name)\n"
   ]
  },
  {
   "cell_type": "code",
   "execution_count": 23,
   "metadata": {},
   "outputs": [
    {
     "name": "stdout",
     "output_type": "stream",
     "text": [
      "hello, Lâm\n"
     ]
    }
   ],
   "source": [
    "# Create our own function\n",
    "def hello(to):\n",
    " print(\"hello,\", to)\n",
    "# Output using our own function\n",
    "name = input(\"What's your name? \")\n",
    "hello(name)\n"
   ]
  },
  {
   "cell_type": "code",
   "execution_count": 24,
   "metadata": {},
   "outputs": [
    {
     "name": "stdout",
     "output_type": "stream",
     "text": [
      "hello, Đan\n",
      "hello, world\n"
     ]
    }
   ],
   "source": [
    "# Create our own function\n",
    "def hello(to=\"world\"):\n",
    " print(\"hello,\", to)\n",
    "# Output using our own function\n",
    "name = input(\"What's your name? \")\n",
    "hello(name)\n",
    "# Output without passing the expected arguments\n",
    "hello()\n"
   ]
  },
  {
   "cell_type": "code",
   "execution_count": 28,
   "metadata": {},
   "outputs": [
    {
     "name": "stdout",
     "output_type": "stream",
     "text": [
      "hello, Thành\n",
      "hello, world\n"
     ]
    }
   ],
   "source": [
    "def main():\n",
    " # Output using our own function\n",
    " name = input(\"What's your name? \")\n",
    " hello(name)\n",
    " # Output without passing the expected arguments\n",
    " hello()\n",
    "# Create our own function\n",
    "def hello(to=\"world\"):\n",
    " print(\"hello,\", to)\n",
    " \n",
    "main()"
   ]
  },
  {
   "cell_type": "code",
   "execution_count": 3,
   "metadata": {},
   "outputs": [
    {
     "name": "stdout",
     "output_type": "stream",
     "text": [
      "x squared is 9\n"
     ]
    }
   ],
   "source": [
    "def main():\n",
    " x = int(input(\"What's x? \"))\n",
    " print(\"x squared is\", square(x))\n",
    "def square(n):\n",
    " return n * n\n",
    "main()"
   ]
  }
 ],
 "metadata": {
  "kernelspec": {
   "display_name": "Python 3",
   "language": "python",
   "name": "python3"
  },
  "language_info": {
   "codemirror_mode": {
    "name": "ipython",
    "version": 3
   },
   "file_extension": ".py",
   "mimetype": "text/x-python",
   "name": "python",
   "nbconvert_exporter": "python",
   "pygments_lexer": "ipython3",
   "version": "3.11.0"
  },
  "orig_nbformat": 4
 },
 "nbformat": 4,
 "nbformat_minor": 2
}
