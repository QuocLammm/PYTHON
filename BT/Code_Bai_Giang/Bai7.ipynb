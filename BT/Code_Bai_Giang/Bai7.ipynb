{
 "cells": [
  {
   "cell_type": "markdown",
   "metadata": {},
   "source": [
    "\n",
    "`Tệp vào/ ra:`"
   ]
  },
  {
   "cell_type": "code",
   "execution_count": 1,
   "metadata": {},
   "outputs": [],
   "source": [
    "names = []\n",
    "for _ in range(3):\n",
    "    name = input(\"What's your name?\" )\n",
    "    names.append(name)"
   ]
  },
  {
   "cell_type": "code",
   "execution_count": 2,
   "metadata": {},
   "outputs": [
    {
     "name": "stdout",
     "output_type": "stream",
     "text": [
      "hello, Lâm\n",
      "hello, hdhfsdf\n",
      "hello, hello\n"
     ]
    }
   ],
   "source": [
    "names = []\n",
    "for _ in range(3):\n",
    "    names.append(input(\"What's your name?\" ))\n",
    "for name in sorted(names):\n",
    "    print(f\"hello, {name}\")\n"
   ]
  },
  {
   "cell_type": "markdown",
   "metadata": {},
   "source": [
    "`Open`"
   ]
  },
  {
   "cell_type": "code",
   "execution_count": 3,
   "metadata": {},
   "outputs": [],
   "source": [
    "name = input(\"What's your name? \")\n",
    "file = open(\"names.txt\", \"w\")\n",
    "file.write(name)\n",
    "file.close()\n"
   ]
  },
  {
   "cell_type": "code",
   "execution_count": 4,
   "metadata": {},
   "outputs": [],
   "source": [
    "name = input(\"What's your name? \")\n",
    "file = open(\"names.txt\", \"a\")\n",
    "file.write(name)\n",
    "file.close()\n"
   ]
  },
  {
   "cell_type": "code",
   "execution_count": 5,
   "metadata": {},
   "outputs": [],
   "source": [
    "name = input(\"What's your name? \")\n",
    "file = open(\"names.txt\", \"a\")\n",
    "file.write(f\"{name}\\n\")\n",
    "file.close()\n"
   ]
  },
  {
   "cell_type": "markdown",
   "metadata": {},
   "source": [
    "Nên đóng tệp sau khi đã ghi dữ liệu tránh mất mát data"
   ]
  },
  {
   "cell_type": "markdown",
   "metadata": {},
   "source": [
    "`With`"
   ]
  },
  {
   "cell_type": "code",
   "execution_count": 7,
   "metadata": {},
   "outputs": [],
   "source": [
    "name = input(\"What's your name? \")\n",
    "with open(\"names.txt\", \"a\") as file:\n",
    "    file.write(f\"{name}\\n\")\n"
   ]
  },
  {
   "cell_type": "code",
   "execution_count": 8,
   "metadata": {},
   "outputs": [
    {
     "name": "stdout",
     "output_type": "stream",
     "text": [
      "hello, lamLâmLam\n",
      "\n",
      "hello, oke\n",
      "\n"
     ]
    }
   ],
   "source": [
    "with open(\"names.txt\", \"r\") as file:\n",
    "    lines = file.readlines()\n",
    "for line in lines:\n",
    "    print(\"hello,\", line)\n"
   ]
  },
  {
   "cell_type": "code",
   "execution_count": 9,
   "metadata": {},
   "outputs": [
    {
     "name": "stdout",
     "output_type": "stream",
     "text": [
      "hello, lamLâmLam\n",
      "hello, oke\n"
     ]
    }
   ],
   "source": [
    "with open(\"names.txt\", \"r\") as file:\n",
    "    lines = file.readlines()\n",
    "for line in lines:\n",
    "    print(\"hello,\", line.rstrip())"
   ]
  },
  {
   "cell_type": "code",
   "execution_count": 10,
   "metadata": {},
   "outputs": [
    {
     "name": "stdout",
     "output_type": "stream",
     "text": [
      "hello, lamLâmLam\n",
      "hello, oke\n"
     ]
    }
   ],
   "source": [
    "with open(\"names.txt\", \"r\") as file:\n",
    "    for line in file:\n",
    "        print(\"hello,\", line.rstrip())"
   ]
  },
  {
   "cell_type": "code",
   "execution_count": 11,
   "metadata": {},
   "outputs": [
    {
     "name": "stdout",
     "output_type": "stream",
     "text": [
      "hello, lamLâmLam\n",
      "hello, oke\n"
     ]
    }
   ],
   "source": [
    "names = []\n",
    "with open(\"names.txt\") as file:\n",
    " for line in file:\n",
    "    names.append(line.rstrip())\n",
    "for name in sorted(names):\n",
    "    print(f\"hello, {name}\")\n"
   ]
  },
  {
   "cell_type": "markdown",
   "metadata": {},
   "source": [
    "`CSV`"
   ]
  },
  {
   "cell_type": "markdown",
   "metadata": {},
   "source": [
    "Tạo 1 file có tên 'students.cvs' và sau đó thực hiện câu lệnh"
   ]
  },
  {
   "cell_type": "code",
   "execution_count": 13,
   "metadata": {},
   "outputs": [
    {
     "name": "stdout",
     "output_type": "stream",
     "text": [
      "Hermoine is in Gryffindor\n",
      "Harry is in Gryffindor\n",
      "Ron is in Gryffindor\n",
      "Draco is in Slytherin\n"
     ]
    }
   ],
   "source": [
    "with open(\"students.csv\") as file:\n",
    "    for line in file:\n",
    "        row = line.rstrip().split(\",\")\n",
    "        print(f\"{row[0]} is in {row[1]}\")"
   ]
  },
  {
   "cell_type": "code",
   "execution_count": 14,
   "metadata": {},
   "outputs": [
    {
     "name": "stdout",
     "output_type": "stream",
     "text": [
      "Hermoine is in Gryffindor\n",
      "Harry is in Gryffindor\n",
      "Ron is in Gryffindor\n",
      "Draco is in Slytherin\n"
     ]
    }
   ],
   "source": [
    "with open(\"students.csv\") as file:\n",
    "    for line in file:\n",
    "        name, house = line.rstrip().split(\",\")\n",
    "        print(f\"{name} is in {house}\")\n"
   ]
  },
  {
   "cell_type": "code",
   "execution_count": 15,
   "metadata": {},
   "outputs": [
    {
     "name": "stdout",
     "output_type": "stream",
     "text": [
      "Draco is in Slytherin\n",
      "Harry is in Gryffindor\n",
      "Hermoine is in Gryffindor\n",
      "Ron is in Gryffindor\n"
     ]
    }
   ],
   "source": [
    "students = []\n",
    "with open(\"students.csv\") as file:\n",
    "\n",
    "    for line in file:\n",
    "        name, house = line.rstrip().split(\",\")\n",
    "        students.append(f\"{name} is in {house}\")\n",
    "for student in sorted(students):\n",
    "    print(student)"
   ]
  },
  {
   "cell_type": "code",
   "execution_count": 16,
   "metadata": {},
   "outputs": [
    {
     "name": "stdout",
     "output_type": "stream",
     "text": [
      "Hermoine is in Gryffindor\n",
      "Harry is in Gryffindor\n",
      "Ron is in Gryffindor\n",
      "Draco is in Slytherin\n"
     ]
    }
   ],
   "source": [
    "students = []\n",
    "with open(\"students.csv\") as file:\n",
    "    for line in file:\n",
    "        name, house = line.rstrip().split(\",\")\n",
    "        student = {}\n",
    "        student[\"name\"] = name\n",
    "        student[\"house\"] = house\n",
    "        students.append(student)\n",
    "for student in students:\n",
    "    print(f\"{student['name']} is in {student['house']}\")\n"
   ]
  },
  {
   "cell_type": "code",
   "execution_count": 17,
   "metadata": {},
   "outputs": [
    {
     "name": "stdout",
     "output_type": "stream",
     "text": [
      "Hermoine is in Gryffindor\n",
      "Harry is in Gryffindor\n",
      "Ron is in Gryffindor\n",
      "Draco is in Slytherin\n"
     ]
    }
   ],
   "source": [
    "students = []\n",
    "with open(\"students.csv\") as file:\n",
    "    for line in file:\n",
    "        name, house = line.rstrip().split(\",\")\n",
    "        student = {\"name\": name, \"house\": house}\n",
    "        students.append(student)\n",
    "for student in students:\n",
    " print(f\"{student['name']} is in {student['house']}\")\n"
   ]
  },
  {
   "cell_type": "code",
   "execution_count": 18,
   "metadata": {},
   "outputs": [
    {
     "name": "stdout",
     "output_type": "stream",
     "text": [
      "Draco is in Slytherin\n",
      "Harry is in Gryffindor\n",
      "Hermoine is in Gryffindor\n",
      "Ron is in Gryffindor\n"
     ]
    }
   ],
   "source": [
    "students = []\n",
    "with open(\"students.csv\") as file:\n",
    "    for line in file:\n",
    "        name, house = line.rstrip().split(\",\")\n",
    "        students.append({\"name\": name, \"house\": house})\n",
    "def get_name(student):\n",
    "    return student[\"name\"]\n",
    "for student in sorted(students, key=get_name):\n",
    "    print(f\"{student['name']} is in {student['house']}\")"
   ]
  },
  {
   "cell_type": "code",
   "execution_count": 19,
   "metadata": {},
   "outputs": [
    {
     "name": "stdout",
     "output_type": "stream",
     "text": [
      "Draco is in Slytherin\n",
      "Harry is in Gryffindor\n",
      "Hermoine is in Gryffindor\n",
      "Ron is in Gryffindor\n"
     ]
    }
   ],
   "source": [
    "students = []\n",
    "with open(\"students.csv\") as file:\n",
    "    for line in file:\n",
    "        name, house = line.rstrip().split(\",\")\n",
    "        students.append({\"name\": name, \"house\": house})\n",
    "for student in sorted(students, key=lambda student: student[\"name\"]):\n",
    "    print(f\"{student['name']} is in {student['house']}\")\n"
   ]
  },
  {
   "cell_type": "markdown",
   "metadata": {},
   "source": [
    "`Thay đổi dữ liệu trong file students.cvs thành \n",
    "\"Harry,\"Number Four, Privet Drive\"\n",
    "Ron,The Burrow\n",
    "Draco,Malfoy Manor\"`"
   ]
  },
  {
   "cell_type": "code",
   "execution_count": 20,
   "metadata": {},
   "outputs": [
    {
     "ename": "ValueError",
     "evalue": "too many values to unpack (expected 2)",
     "output_type": "error",
     "traceback": [
      "\u001b[1;31m---------------------------------------------------------------------------\u001b[0m",
      "\u001b[1;31mValueError\u001b[0m                                Traceback (most recent call last)",
      "\u001b[1;32me:\\HK1_2024\\PYTHON\\BT\\Code_Bai_Giang\\Bai7.ipynb Cell 25\u001b[0m line \u001b[0;36m5\n\u001b[0;32m      <a href='vscode-notebook-cell:/e%3A/HK1_2024/PYTHON/BT/Code_Bai_Giang/Bai7.ipynb#X41sZmlsZQ%3D%3D?line=1'>2</a>\u001b[0m \u001b[39mwith\u001b[39;00m \u001b[39mopen\u001b[39m(\u001b[39m\"\u001b[39m\u001b[39mstudents.csv\u001b[39m\u001b[39m\"\u001b[39m) \u001b[39mas\u001b[39;00m file:\n\u001b[0;32m      <a href='vscode-notebook-cell:/e%3A/HK1_2024/PYTHON/BT/Code_Bai_Giang/Bai7.ipynb#X41sZmlsZQ%3D%3D?line=3'>4</a>\u001b[0m     \u001b[39mfor\u001b[39;00m line \u001b[39min\u001b[39;00m file:\n\u001b[1;32m----> <a href='vscode-notebook-cell:/e%3A/HK1_2024/PYTHON/BT/Code_Bai_Giang/Bai7.ipynb#X41sZmlsZQ%3D%3D?line=4'>5</a>\u001b[0m         name, home \u001b[39m=\u001b[39m line\u001b[39m.\u001b[39mrstrip()\u001b[39m.\u001b[39msplit(\u001b[39m\"\u001b[39m\u001b[39m,\u001b[39m\u001b[39m\"\u001b[39m)\n\u001b[0;32m      <a href='vscode-notebook-cell:/e%3A/HK1_2024/PYTHON/BT/Code_Bai_Giang/Bai7.ipynb#X41sZmlsZQ%3D%3D?line=5'>6</a>\u001b[0m         students\u001b[39m.\u001b[39mappend({\u001b[39m\"\u001b[39m\u001b[39mname\u001b[39m\u001b[39m\"\u001b[39m: name, \u001b[39m\"\u001b[39m\u001b[39mhome\u001b[39m\u001b[39m\"\u001b[39m: home})\n\u001b[0;32m      <a href='vscode-notebook-cell:/e%3A/HK1_2024/PYTHON/BT/Code_Bai_Giang/Bai7.ipynb#X41sZmlsZQ%3D%3D?line=6'>7</a>\u001b[0m \u001b[39mfor\u001b[39;00m student \u001b[39min\u001b[39;00m \u001b[39msorted\u001b[39m(students, key\u001b[39m=\u001b[39m\u001b[39mlambda\u001b[39;00m student: student[\u001b[39m\"\u001b[39m\u001b[39mname\u001b[39m\u001b[39m\"\u001b[39m]):\n",
      "\u001b[1;31mValueError\u001b[0m: too many values to unpack (expected 2)"
     ]
    }
   ],
   "source": [
    "students = []\n",
    "with open(\"students.csv\") as file:\n",
    "\n",
    "    for line in file:\n",
    "        name, home = line.rstrip().split(\",\")\n",
    "        students.append({\"name\": name, \"home\": home})\n",
    "for student in sorted(students, key=lambda student: student[\"name\"]):\n",
    "    print(f\"{student['name']} is in {student['home']}\")"
   ]
  },
  {
   "cell_type": "markdown",
   "metadata": {},
   "source": [
    "Lỗi ValueError: too many value to unpack do trình biên dịch tạo ra là kết quả của\n",
    "thực tế là trước đây chúng tôi đã tạo chương trình này với mong muốn tệp CSV được phân chia bằng cách sử dụng ,\n",
    "(dấu phẩy). Chúng ta có thể dành nhiều thời gian hơn để giải quyết vấn đề này, nhưng thực sự đã có người khác đã làm rồi.\n",
    "đã phát triển một cách để \"phân tích cú pháp\" (nghĩa là đọc) các tệp CSV!\n",
    "Thư viện csv tích hợp của Python đi kèm với một đối tượng được gọi là reader . Đúng như tên gọi,\n",
    "chúng tôi có thể sử dụng trình đọc để đọc tệp CSV của mình mặc dù có thêm dấu phẩy trong “Number Four, Privet\n",
    "Lái xe\". Trình đọc hoạt động trong vòng lặp for, trong đó mỗi lần lặp trình đọc sẽ cung cấp cho chúng ta một hàng khác\n",
    "từ tệp CSV của chúng tôi. Bản thân hàng này là một danh sách, trong đó mỗi giá trị trong danh sách tương ứng với một\n",
    "phần tử trong hàng đó. row[0] chẳng hạn, là phần tử đầu tiên của hàng đã cho, trong khi\n",
    "row[1] là phần tử thứ hai."
   ]
  },
  {
   "cell_type": "code",
   "execution_count": 21,
   "metadata": {},
   "outputs": [
    {
     "name": "stdout",
     "output_type": "stream",
     "text": [
      "Draco is from Malfoy Manor\n",
      "Harry is from Number Four, Privet Drive\n",
      "Ron is from The Burrow\n"
     ]
    }
   ],
   "source": [
    "import csv\n",
    "students = []\n",
    "with open(\"students.csv\") as file:\n",
    "    reader = csv.reader(file)\n",
    "    for row in reader:\n",
    "        students.append({\"name\": row[0], \"home\": row[1]})\n",
    "for student in sorted(students, key=lambda student: student[\"name\"]):\n",
    "    print(f\"{student['name']} is from {student['home']}\")\n"
   ]
  },
  {
   "cell_type": "markdown",
   "metadata": {},
   "source": [
    "`Thay đổi dữ liệu trong file 'students.cvs' thành name,home Harry,\"Number Four, Privet Drive\" Ron,The Burrow Draco,Malfoy Manor`"
   ]
  },
  {
   "cell_type": "code",
   "execution_count": 22,
   "metadata": {},
   "outputs": [
    {
     "name": "stdout",
     "output_type": "stream",
     "text": [
      "Draco is in Malfoy Manor\n",
      "Harry is in Number Four, Privet Drive\n",
      "Ron is in The Burrow\n"
     ]
    }
   ],
   "source": [
    "import csv\n",
    "students = []\n",
    "with open(\"students.csv\") as file:\n",
    "    reader = csv.DictReader(file)\n",
    "    for row in reader:\n",
    "        students.append({\"name\": row[\"name\"], \"home\": row[\"home\"]})\n",
    "for student in sorted(students, key=lambda student: student[\"name\"]):\n",
    "    print(f\"{student['name']} is in {student['home']}\")\n"
   ]
  },
  {
   "cell_type": "code",
   "execution_count": 23,
   "metadata": {},
   "outputs": [],
   "source": [
    "import csv\n",
    "name = input(\"What's your name? \")\n",
    "home = input(\"Where's your home? \")\n",
    "with open(\"students.csv\", \"a\") as file:\n",
    "    writer = csv.DictWriter(file, fieldnames=[\"name\", \"home\"])\n",
    "    writer.writerow({\"name\": name, \"home\": home})\n"
   ]
  },
  {
   "cell_type": "markdown",
   "metadata": {},
   "source": [
    "`Tệp nhị nhân PIL`"
   ]
  }
 ],
 "metadata": {
  "kernelspec": {
   "display_name": "Python 3",
   "language": "python",
   "name": "python3"
  },
  "language_info": {
   "codemirror_mode": {
    "name": "ipython",
    "version": 3
   },
   "file_extension": ".py",
   "mimetype": "text/x-python",
   "name": "python",
   "nbconvert_exporter": "python",
   "pygments_lexer": "ipython3",
   "version": "3.11.0"
  },
  "orig_nbformat": 4
 },
 "nbformat": 4,
 "nbformat_minor": 2
}
